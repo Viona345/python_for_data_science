{
  "nbformat": 4,
  "nbformat_minor": 0,
  "metadata": {
    "colab": {
      "provenance": [],
      "authorship_tag": "ABX9TyNAjtioO5QdMwANuZMDrQXo",
      "include_colab_link": true
    },
    "kernelspec": {
      "name": "python3",
      "display_name": "Python 3"
    },
    "language_info": {
      "name": "python"
    }
  },
  "cells": [
    {
      "cell_type": "markdown",
      "metadata": {
        "id": "view-in-github",
        "colab_type": "text"
      },
      "source": [
        "<a href=\"https://colab.research.google.com/github/Viona345/python_for_data_science/blob/main/Viona_Auia_Meidy_CAKAP_latihan.ipynb\" target=\"_parent\"><img src=\"https://colab.research.google.com/assets/colab-badge.svg\" alt=\"Open In Colab\"/></a>"
      ]
    },
    {
      "cell_type": "markdown",
      "source": [
        "Budi bekerja selama liburan semester yang berlangsung 5 minggu.\n",
        "\n",
        "Gaji yang diberikan adalah gaji per jam (asumsikan\n",
        "𝑋\n",
        "X rupiah per jam).\n",
        "\n",
        "Total pajak yang harus dibayar adalah 14%.\n",
        "\n",
        "Dari pendapatan bersih setelah pajak, 10% digunakan untuk membeli pakaian dan aksesoris, 1% untuk alat tulis.\n",
        "\n",
        "Setelah membeli pakaian, aksesoris, dan alat tulis, 25% dari sisa uang akan disedekahkan.\n",
        "\n",
        "Dari setiap Rp. 1000 yang disedekahkan, 30% diberikan kepada anak yatim dan sisanya kepada kaum dhuafa."
      ],
      "metadata": {
        "id": "JlS4oWVyOJbR"
      }
    },
    {
      "cell_type": "code",
      "execution_count": 1,
      "metadata": {
        "id": "Zu5swtFfNvEq"
      },
      "outputs": [],
      "source": [
        "gaji_per_jam = 50000       # Gaji per jam dalam Rupiah\n",
        "jam_kerja_per_minggu = 40  # Jam kerja per minggu\n",
        "lama_kerja = 5             # Lama kerja dalam minggu"
      ]
    },
    {
      "cell_type": "code",
      "source": [
        "# Menghitung pendapatan sebelum pajak\n",
        "pendapatan_kotor = gaji_per_jam * jam_kerja_per_minggu * lama_kerja\n",
        "pendapatan_kotor\n",
        "print(\"Pendapatan kotor:\", f\"Rp{pendapatan_kotor:,.0f}\")"
      ],
      "metadata": {
        "colab": {
          "base_uri": "https://localhost:8080/"
        },
        "id": "NO4OoXvEOWUS",
        "outputId": "5f5c1d9f-feac-4c93-f2ef-5499c5f30fa3"
      },
      "execution_count": 10,
      "outputs": [
        {
          "output_type": "stream",
          "name": "stdout",
          "text": [
            "Pendapatan kotor: Rp10,000,000\n"
          ]
        }
      ]
    },
    {
      "cell_type": "code",
      "source": [
        "# Menghitung pajak 14% dan pendapatan bersih\n",
        "pajak = 0.14 * pendapatan_kotor\n",
        "pendapatan_bersih = pendapatan_kotor - pajak\n",
        "print(\"Pendapatan bersih setelah pajak:\", f\"Rp{pendapatan_bersih:,.0f}\")"
      ],
      "metadata": {
        "colab": {
          "base_uri": "https://localhost:8080/"
        },
        "id": "jZjjjLSHObCR",
        "outputId": "51b85820-6c08-4e3b-bfd9-8454dd3f6add"
      },
      "execution_count": 11,
      "outputs": [
        {
          "output_type": "stream",
          "name": "stdout",
          "text": [
            "Pendapatan bersih setelah pajak: Rp8,600,000\n"
          ]
        }
      ]
    },
    {
      "cell_type": "code",
      "source": [
        "# Menghitung pengeluaran untuk pakaian\n",
        "uang_pakaian_aksesoris = 0.10 * pendapatan_bersih\n",
        "print(\"Uang untuk pakaian dan aksesoris:\", f\"Rp{uang_pakaian_aksesoris:,.0f}\")"
      ],
      "metadata": {
        "colab": {
          "base_uri": "https://localhost:8080/"
        },
        "id": "kIrp6Nq9Ol4L",
        "outputId": "7062e6be-2c35-4278-bd15-6ad9db2f8c2f"
      },
      "execution_count": 17,
      "outputs": [
        {
          "output_type": "stream",
          "name": "stdout",
          "text": [
            "Uang untuk pakaian dan aksesoris: Rp860,000\n"
          ]
        }
      ]
    },
    {
      "cell_type": "code",
      "source": [
        "# Menghitung pengeluaran alat tulis\n",
        "uang_alat_tulis = 0.01 * pendapatan_bersih\n",
        "print(\"Uang alat tulis:\", f\"Rp{uang_alat_tulis:,.0f}\")"
      ],
      "metadata": {
        "colab": {
          "base_uri": "https://localhost:8080/"
        },
        "id": "1zo9dn0FRLn6",
        "outputId": "2c5756a1-b509-46ab-dd86-9a4ff61edbec"
      },
      "execution_count": 19,
      "outputs": [
        {
          "output_type": "stream",
          "name": "stdout",
          "text": [
            "Uang alat tulis: Rp86,000\n"
          ]
        }
      ]
    },
    {
      "cell_type": "code",
      "source": [
        "# Sisa uang setelah pengeluaran\n",
        "sisa_uang = pendapatan_bersih - (uang_pakaian_aksesoris + uang_alat_tulis)\n",
        "print(\"Sisa uang setelah pengeluaran:\", f\"Rp{sisa_uang:,.0f}\")"
      ],
      "metadata": {
        "colab": {
          "base_uri": "https://localhost:8080/"
        },
        "id": "15fxMcigOsx3",
        "outputId": "35cef6c8-5612-45cd-8e14-ca6d320c24cb"
      },
      "execution_count": 18,
      "outputs": [
        {
          "output_type": "stream",
          "name": "stdout",
          "text": [
            "Sisa uang setelah pengeluaran: Rp7,654,000\n"
          ]
        }
      ]
    },
    {
      "cell_type": "code",
      "source": [
        "# Menghitung sedekah 25% dari sisa uang\n",
        "uang_sedekah = 0.25 * sisa_uang\n",
        "print(\"Jumlah uang yang disedekahkan:\", f\"Rp{uang_sedekah:,.0f}\")"
      ],
      "metadata": {
        "colab": {
          "base_uri": "https://localhost:8080/"
        },
        "id": "86lePfoLOwxr",
        "outputId": "918cd70b-facd-4324-886a-61f6b38c560b"
      },
      "execution_count": 15,
      "outputs": [
        {
          "output_type": "stream",
          "name": "stdout",
          "text": [
            "Jumlah uang yang disedekahkan: Rp1,913,500\n"
          ]
        }
      ]
    },
    {
      "cell_type": "code",
      "source": [
        "# Pembagian sedekah: 30% ke anak yatim dan 70% ke kaum dhuafa\n",
        "uang_anak_yatim = 0.30 * uang_sedekah\n",
        "uang_kaum_dhuafa = 0.70 * uang_sedekah\n",
        "print(\"Jumlah uang untuk anak yatim:\", f\"Rp{uang_anak_yatim:,.0f}\")\n",
        "print(\"Jumlah uang untuk kaum dhuafa:\", f\"Rp{uang_kaum_dhuafa:,.0f}\")"
      ],
      "metadata": {
        "colab": {
          "base_uri": "https://localhost:8080/"
        },
        "id": "6xaXtKFiO3rb",
        "outputId": "b84a2b72-c2bb-486b-ec0a-083f2383f60f"
      },
      "execution_count": 16,
      "outputs": [
        {
          "output_type": "stream",
          "name": "stdout",
          "text": [
            "Jumlah uang untuk anak yatim: Rp574,050\n",
            "Jumlah uang untuk kaum dhuafa: Rp1,339,450\n"
          ]
        }
      ]
    }
  ]
}